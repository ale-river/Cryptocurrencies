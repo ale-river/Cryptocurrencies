{
 "cells": [
  {
   "cell_type": "code",
   "execution_count": 1,
   "id": "8c987aed",
   "metadata": {},
   "outputs": [
    {
     "name": "stdout",
     "output_type": "stream",
     "text": [
      "Requirement already satisfied: hvplot in /Applications/anaconda3/envs/mlenv/lib/python3.7/site-packages (0.7.3)\n",
      "Requirement already satisfied: bokeh>=1.0.0 in /Applications/anaconda3/envs/mlenv/lib/python3.7/site-packages (from hvplot) (2.4.2)\n",
      "Requirement already satisfied: colorcet>=2 in /Applications/anaconda3/envs/mlenv/lib/python3.7/site-packages (from hvplot) (3.0.0)\n",
      "Requirement already satisfied: holoviews>=1.11.0 in /Applications/anaconda3/envs/mlenv/lib/python3.7/site-packages (from hvplot) (1.14.7)\n",
      "Requirement already satisfied: pandas in /Applications/anaconda3/envs/mlenv/lib/python3.7/site-packages (from hvplot) (1.3.4)\n",
      "Requirement already satisfied: numpy>=1.15 in /Applications/anaconda3/envs/mlenv/lib/python3.7/site-packages (from hvplot) (1.20.3)\n",
      "Requirement already satisfied: tornado>=5.1 in /Applications/anaconda3/envs/mlenv/lib/python3.7/site-packages (from bokeh>=1.0.0->hvplot) (6.1)\n",
      "Requirement already satisfied: Jinja2>=2.9 in /Applications/anaconda3/envs/mlenv/lib/python3.7/site-packages (from bokeh>=1.0.0->hvplot) (2.11.3)\n",
      "Requirement already satisfied: pillow>=7.1.0 in /Applications/anaconda3/envs/mlenv/lib/python3.7/site-packages (from bokeh>=1.0.0->hvplot) (8.4.0)\n",
      "Requirement already satisfied: packaging>=16.8 in /Applications/anaconda3/envs/mlenv/lib/python3.7/site-packages (from bokeh>=1.0.0->hvplot) (21.3)\n",
      "Requirement already satisfied: typing-extensions>=3.10.0 in /Applications/anaconda3/envs/mlenv/lib/python3.7/site-packages (from bokeh>=1.0.0->hvplot) (3.10.0.2)\n",
      "Requirement already satisfied: PyYAML>=3.10 in /Applications/anaconda3/envs/mlenv/lib/python3.7/site-packages (from bokeh>=1.0.0->hvplot) (6.0)\n",
      "Requirement already satisfied: param>=1.7.0 in /Applications/anaconda3/envs/mlenv/lib/python3.7/site-packages (from colorcet>=2->hvplot) (1.12.0)\n",
      "Requirement already satisfied: pyct>=0.4.4 in /Applications/anaconda3/envs/mlenv/lib/python3.7/site-packages (from colorcet>=2->hvplot) (0.4.8)\n",
      "Requirement already satisfied: pyviz_comms>=0.7.4 in /Applications/anaconda3/envs/mlenv/lib/python3.7/site-packages (from holoviews>=1.11.0->hvplot) (2.1.0)\n",
      "Requirement already satisfied: panel>=0.8.0 in /Applications/anaconda3/envs/mlenv/lib/python3.7/site-packages (from holoviews>=1.11.0->hvplot) (0.12.6)\n",
      "Requirement already satisfied: MarkupSafe>=0.23 in /Applications/anaconda3/envs/mlenv/lib/python3.7/site-packages (from Jinja2>=2.9->bokeh>=1.0.0->hvplot) (1.1.1)\n",
      "Requirement already satisfied: pyparsing!=3.0.5,>=2.0.2 in /Applications/anaconda3/envs/mlenv/lib/python3.7/site-packages (from packaging>=16.8->bokeh>=1.0.0->hvplot) (3.0.4)\n",
      "Requirement already satisfied: python-dateutil>=2.7.3 in /Applications/anaconda3/envs/mlenv/lib/python3.7/site-packages (from pandas->hvplot) (2.8.2)\n",
      "Requirement already satisfied: pytz>=2017.3 in /Applications/anaconda3/envs/mlenv/lib/python3.7/site-packages (from pandas->hvplot) (2021.3)\n",
      "Requirement already satisfied: markdown in /Applications/anaconda3/envs/mlenv/lib/python3.7/site-packages (from panel>=0.8.0->holoviews>=1.11.0->hvplot) (3.3.4)\n",
      "Requirement already satisfied: requests in /Applications/anaconda3/envs/mlenv/lib/python3.7/site-packages (from panel>=0.8.0->holoviews>=1.11.0->hvplot) (2.26.0)\n",
      "Requirement already satisfied: tqdm>=4.48.0 in /Applications/anaconda3/envs/mlenv/lib/python3.7/site-packages (from panel>=0.8.0->holoviews>=1.11.0->hvplot) (4.62.3)\n",
      "Requirement already satisfied: bleach in /Applications/anaconda3/envs/mlenv/lib/python3.7/site-packages (from panel>=0.8.0->holoviews>=1.11.0->hvplot) (4.0.0)\n",
      "Requirement already satisfied: six>=1.5 in /Applications/anaconda3/envs/mlenv/lib/python3.7/site-packages (from python-dateutil>=2.7.3->pandas->hvplot) (1.16.0)\n",
      "Requirement already satisfied: webencodings in /Applications/anaconda3/envs/mlenv/lib/python3.7/site-packages (from bleach->panel>=0.8.0->holoviews>=1.11.0->hvplot) (0.5.1)\n",
      "Requirement already satisfied: importlib-metadata in /Applications/anaconda3/envs/mlenv/lib/python3.7/site-packages (from markdown->panel>=0.8.0->holoviews>=1.11.0->hvplot) (4.8.2)\n",
      "Requirement already satisfied: zipp>=0.5 in /Applications/anaconda3/envs/mlenv/lib/python3.7/site-packages (from importlib-metadata->markdown->panel>=0.8.0->holoviews>=1.11.0->hvplot) (3.6.0)\n",
      "Requirement already satisfied: certifi>=2017.4.17 in /Applications/anaconda3/envs/mlenv/lib/python3.7/site-packages (from requests->panel>=0.8.0->holoviews>=1.11.0->hvplot) (2021.10.8)\n",
      "Requirement already satisfied: idna<4,>=2.5 in /Applications/anaconda3/envs/mlenv/lib/python3.7/site-packages (from requests->panel>=0.8.0->holoviews>=1.11.0->hvplot) (3.3)\n",
      "Requirement already satisfied: urllib3<1.27,>=1.21.1 in /Applications/anaconda3/envs/mlenv/lib/python3.7/site-packages (from requests->panel>=0.8.0->holoviews>=1.11.0->hvplot) (1.26.7)\n",
      "Requirement already satisfied: charset-normalizer~=2.0.0 in /Applications/anaconda3/envs/mlenv/lib/python3.7/site-packages (from requests->panel>=0.8.0->holoviews>=1.11.0->hvplot) (2.0.4)\n"
     ]
    }
   ],
   "source": [
    "!pip install hvplot"
   ]
  },
  {
   "cell_type": "code",
   "execution_count": 2,
   "id": "66513732",
   "metadata": {},
   "outputs": [
    {
     "name": "stdout",
     "output_type": "stream",
     "text": [
      "Requirement already satisfied: plotly in /Applications/anaconda3/envs/mlenv/lib/python3.7/site-packages (3.6.1)\n",
      "Requirement already satisfied: decorator>=4.0.6 in /Applications/anaconda3/envs/mlenv/lib/python3.7/site-packages (from plotly) (5.1.0)\n",
      "Requirement already satisfied: nbformat>=4.2 in /Applications/anaconda3/envs/mlenv/lib/python3.7/site-packages (from plotly) (5.1.3)\n",
      "Requirement already satisfied: pytz in /Applications/anaconda3/envs/mlenv/lib/python3.7/site-packages (from plotly) (2021.3)\n",
      "Requirement already satisfied: requests in /Applications/anaconda3/envs/mlenv/lib/python3.7/site-packages (from plotly) (2.26.0)\n",
      "Requirement already satisfied: retrying>=1.3.3 in /Applications/anaconda3/envs/mlenv/lib/python3.7/site-packages (from plotly) (1.3.3)\n",
      "Requirement already satisfied: six in /Applications/anaconda3/envs/mlenv/lib/python3.7/site-packages (from plotly) (1.16.0)\n",
      "Requirement already satisfied: jsonschema!=2.5.0,>=2.4 in /Applications/anaconda3/envs/mlenv/lib/python3.7/site-packages (from nbformat>=4.2->plotly) (3.2.0)\n",
      "Requirement already satisfied: jupyter-core in /Applications/anaconda3/envs/mlenv/lib/python3.7/site-packages (from nbformat>=4.2->plotly) (4.9.1)\n",
      "Requirement already satisfied: ipython-genutils in /Applications/anaconda3/envs/mlenv/lib/python3.7/site-packages (from nbformat>=4.2->plotly) (0.2.0)\n",
      "Requirement already satisfied: traitlets>=4.1 in /Applications/anaconda3/envs/mlenv/lib/python3.7/site-packages (from nbformat>=4.2->plotly) (5.1.1)\n",
      "Requirement already satisfied: pyrsistent>=0.14.0 in /Applications/anaconda3/envs/mlenv/lib/python3.7/site-packages (from jsonschema!=2.5.0,>=2.4->nbformat>=4.2->plotly) (0.18.0)\n",
      "Requirement already satisfied: setuptools in /Applications/anaconda3/envs/mlenv/lib/python3.7/site-packages (from jsonschema!=2.5.0,>=2.4->nbformat>=4.2->plotly) (58.0.4)\n",
      "Requirement already satisfied: attrs>=17.4.0 in /Applications/anaconda3/envs/mlenv/lib/python3.7/site-packages (from jsonschema!=2.5.0,>=2.4->nbformat>=4.2->plotly) (21.2.0)\n",
      "Requirement already satisfied: importlib-metadata in /Applications/anaconda3/envs/mlenv/lib/python3.7/site-packages (from jsonschema!=2.5.0,>=2.4->nbformat>=4.2->plotly) (4.8.2)\n",
      "Requirement already satisfied: typing-extensions>=3.6.4 in /Applications/anaconda3/envs/mlenv/lib/python3.7/site-packages (from importlib-metadata->jsonschema!=2.5.0,>=2.4->nbformat>=4.2->plotly) (3.10.0.2)\n",
      "Requirement already satisfied: zipp>=0.5 in /Applications/anaconda3/envs/mlenv/lib/python3.7/site-packages (from importlib-metadata->jsonschema!=2.5.0,>=2.4->nbformat>=4.2->plotly) (3.6.0)\n",
      "Requirement already satisfied: idna<4,>=2.5 in /Applications/anaconda3/envs/mlenv/lib/python3.7/site-packages (from requests->plotly) (3.3)\n",
      "Requirement already satisfied: urllib3<1.27,>=1.21.1 in /Applications/anaconda3/envs/mlenv/lib/python3.7/site-packages (from requests->plotly) (1.26.7)\n",
      "Requirement already satisfied: charset-normalizer~=2.0.0 in /Applications/anaconda3/envs/mlenv/lib/python3.7/site-packages (from requests->plotly) (2.0.4)\n",
      "Requirement already satisfied: certifi>=2017.4.17 in /Applications/anaconda3/envs/mlenv/lib/python3.7/site-packages (from requests->plotly) (2021.10.8)\n"
     ]
    }
   ],
   "source": [
    "!pip install plotly"
   ]
  },
  {
   "cell_type": "code",
   "execution_count": 3,
   "id": "bbbd93c2",
   "metadata": {},
   "outputs": [
    {
     "name": "stdout",
     "output_type": "stream",
     "text": [
      "Requirement already satisfied: sklearn in /Applications/anaconda3/envs/mlenv/lib/python3.7/site-packages (0.0)\n",
      "Requirement already satisfied: scikit-learn in /Applications/anaconda3/envs/mlenv/lib/python3.7/site-packages (from sklearn) (1.0)\n",
      "Requirement already satisfied: numpy>=1.14.6 in /Applications/anaconda3/envs/mlenv/lib/python3.7/site-packages (from scikit-learn->sklearn) (1.20.3)\n",
      "Requirement already satisfied: scipy>=1.1.0 in /Applications/anaconda3/envs/mlenv/lib/python3.7/site-packages (from scikit-learn->sklearn) (1.7.1)\n",
      "Requirement already satisfied: threadpoolctl>=2.0.0 in /Applications/anaconda3/envs/mlenv/lib/python3.7/site-packages (from scikit-learn->sklearn) (2.2.0)\n",
      "Requirement already satisfied: joblib>=0.11 in /Applications/anaconda3/envs/mlenv/lib/python3.7/site-packages (from scikit-learn->sklearn) (1.1.0)\n"
     ]
    }
   ],
   "source": [
    "!pip install sklearn"
   ]
  },
  {
   "cell_type": "code",
   "execution_count": 5,
   "id": "2b9f52c9",
   "metadata": {},
   "outputs": [],
   "source": [
    "# Initial imports\n",
    "import pandas as pd\n",
    "import hvplot.pandas\n",
    "from path import Path\n",
    "import plotly as px\n",
    "from sklearn.preprocessing import StandardScaler, MinMaxScaler\n",
    "from sklearn.decomposition import PCA\n",
    "from sklearn.cluster import KMeans"
   ]
  },
  {
   "cell_type": "markdown",
   "id": "6f03b0c4",
   "metadata": {},
   "source": [
    "### Deliverable 1: Preprocessing the Data for PCA"
   ]
  },
  {
   "cell_type": "code",
   "execution_count": null,
   "id": "8f31a1a1",
   "metadata": {},
   "outputs": [],
   "source": []
  }
 ],
 "metadata": {
  "kernelspec": {
   "display_name": "mlenv",
   "language": "python",
   "name": "mlenv"
  },
  "language_info": {
   "codemirror_mode": {
    "name": "ipython",
    "version": 3
   },
   "file_extension": ".py",
   "mimetype": "text/x-python",
   "name": "python",
   "nbconvert_exporter": "python",
   "pygments_lexer": "ipython3",
   "version": "3.7.11"
  }
 },
 "nbformat": 4,
 "nbformat_minor": 5
}
